{
 "cells": [
  {
   "cell_type": "markdown",
   "id": "7759a69d",
   "metadata": {},
   "source": [
    "\n",
    "<font color=black size=9 face=雅黑>**Numpy Self-study**</font>\n",
    "\n",
    "<font color=black size=6 face=雅黑>**1 Numpy Introduction**</font>\n",
    "\n",
    "\n",
    "https://github.com/lijin-THU/notes-python/tree/master/03-numpy"
   ]
  },
  {
   "cell_type": "markdown",
   "id": "9963a078",
   "metadata": {},
   "source": [
    "<font color=black size=4 face=雅黑>**导入Numpy**</font>"
   ]
  },
  {
   "cell_type": "code",
   "execution_count": 2,
   "id": "1b76a28c",
   "metadata": {},
   "outputs": [],
   "source": [
    "import numpy as np\n",
    "import numpy\n",
    "from numpy import *\n",
    "from numpy import array, sin"
   ]
  },
  {
   "cell_type": "code",
   "execution_count": 3,
   "id": "5c36b7ae",
   "metadata": {},
   "outputs": [
    {
     "name": "stdout",
     "output_type": "stream",
     "text": [
      "Using matplotlib backend: <object object at 0x7f8db84972e0>\n",
      "%pylab is deprecated, use %matplotlib inline and import the required libraries.\n",
      "Populating the interactive namespace from numpy and matplotlib\n"
     ]
    }
   ],
   "source": [
    "%pylab"
   ]
  },
  {
   "cell_type": "markdown",
   "id": "c8cbc61a",
   "metadata": {},
   "source": [
    "<font color=black size=4 face=雅黑>**数组上的数学操作**</font>"
   ]
  },
  {
   "cell_type": "code",
   "execution_count": 7,
   "id": "fc4b6c4b",
   "metadata": {},
   "outputs": [
    {
     "data": {
      "text/plain": [
       "array([1, 2, 3, 4])"
      ]
     },
     "execution_count": 7,
     "metadata": {},
     "output_type": "execute_result"
    }
   ],
   "source": [
    "a = [1, 2, 3, 4]\n",
    "a = array(a)\n",
    "a"
   ]
  },
  {
   "cell_type": "markdown",
   "id": "b0794036",
   "metadata": {},
   "source": [
    "array 数组支持每个元素加 1 的操作"
   ]
  },
  {
   "cell_type": "code",
   "execution_count": 11,
   "id": "5f1a60ee",
   "metadata": {
    "scrolled": true
   },
   "outputs": [
    {
     "data": {
      "text/plain": [
       "array([2, 3, 4, 5])"
      ]
     },
     "execution_count": 11,
     "metadata": {},
     "output_type": "execute_result"
    }
   ],
   "source": [
    "a + 1"
   ]
  },
  {
   "cell_type": "markdown",
   "id": "ff191af4",
   "metadata": {},
   "source": [
    "与另一个 array 相加，得到对应元素相加的结果："
   ]
  },
  {
   "cell_type": "code",
   "execution_count": 12,
   "id": "908f00fa",
   "metadata": {},
   "outputs": [
    {
     "data": {
      "text/plain": [
       "array([3, 5, 7, 9])"
      ]
     },
     "execution_count": 12,
     "metadata": {},
     "output_type": "execute_result"
    }
   ],
   "source": [
    "b = array([2,3,4,5])\n",
    "a + b"
   ]
  },
  {
   "cell_type": "markdown",
   "id": "04eec475",
   "metadata": {},
   "source": [
    "对应元素相乘："
   ]
  },
  {
   "cell_type": "code",
   "execution_count": 13,
   "id": "d38e57eb",
   "metadata": {},
   "outputs": [
    {
     "data": {
      "text/plain": [
       "array([ 2,  6, 12, 20])"
      ]
     },
     "execution_count": 13,
     "metadata": {},
     "output_type": "execute_result"
    }
   ],
   "source": [
    "a * b"
   ]
  },
  {
   "cell_type": "markdown",
   "id": "4d9b1471",
   "metadata": {},
   "source": [
    "对应元素乘方："
   ]
  },
  {
   "cell_type": "code",
   "execution_count": 14,
   "id": "3f3cac95",
   "metadata": {},
   "outputs": [
    {
     "data": {
      "text/plain": [
       "array([   1,    8,   81, 1024])"
      ]
     },
     "execution_count": 14,
     "metadata": {},
     "output_type": "execute_result"
    }
   ],
   "source": [
    "a ** b"
   ]
  },
  {
   "cell_type": "markdown",
   "id": "2ba6ae2d",
   "metadata": {},
   "source": [
    "<font color=black size=4 face=雅黑>**提取数组种的元素**</font>"
   ]
  },
  {
   "cell_type": "markdown",
   "id": "78b1f107",
   "metadata": {},
   "source": [
    "提取第一个元素："
   ]
  },
  {
   "cell_type": "code",
   "execution_count": 15,
   "id": "ca7a7203",
   "metadata": {},
   "outputs": [
    {
     "data": {
      "text/plain": [
       "1"
      ]
     },
     "execution_count": 15,
     "metadata": {},
     "output_type": "execute_result"
    }
   ],
   "source": [
    "a[0]"
   ]
  },
  {
   "cell_type": "markdown",
   "id": "126609f2",
   "metadata": {},
   "source": [
    "提取前两个元素："
   ]
  },
  {
   "cell_type": "code",
   "execution_count": 16,
   "id": "8d581f28",
   "metadata": {},
   "outputs": [
    {
     "data": {
      "text/plain": [
       "array([1, 2])"
      ]
     },
     "execution_count": 16,
     "metadata": {},
     "output_type": "execute_result"
    }
   ],
   "source": [
    "a[:2]"
   ]
  },
  {
   "cell_type": "markdown",
   "id": "2f64ff4c",
   "metadata": {},
   "source": [
    "最后两个元素："
   ]
  },
  {
   "cell_type": "code",
   "execution_count": 18,
   "id": "58d1d264",
   "metadata": {},
   "outputs": [
    {
     "data": {
      "text/plain": [
       "array([3, 4])"
      ]
     },
     "execution_count": 18,
     "metadata": {},
     "output_type": "execute_result"
    }
   ],
   "source": [
    "a[-2:]"
   ]
  },
  {
   "cell_type": "markdown",
   "id": "311617c7",
   "metadata": {},
   "source": [
    "将其相加："
   ]
  },
  {
   "cell_type": "code",
   "execution_count": 19,
   "id": "483f96e6",
   "metadata": {},
   "outputs": [
    {
     "data": {
      "text/plain": [
       "array([4, 6])"
      ]
     },
     "execution_count": 19,
     "metadata": {},
     "output_type": "execute_result"
    }
   ],
   "source": [
    "a [:2] + a [-2:]"
   ]
  },
  {
   "cell_type": "markdown",
   "id": "9be770f1",
   "metadata": {},
   "source": [
    "<font color=black size=4 face=雅黑>**修改数组形状**</font>"
   ]
  },
  {
   "cell_type": "markdown",
   "id": "2db0987a",
   "metadata": {},
   "source": [
    "查看array的形状："
   ]
  },
  {
   "cell_type": "code",
   "execution_count": 20,
   "id": "d0467d33",
   "metadata": {},
   "outputs": [
    {
     "data": {
      "text/plain": [
       "(4,)"
      ]
     },
     "execution_count": 20,
     "metadata": {},
     "output_type": "execute_result"
    }
   ],
   "source": [
    "a.shape"
   ]
  },
  {
   "cell_type": "markdown",
   "id": "0543f810",
   "metadata": {},
   "source": [
    "修改array的形状："
   ]
  },
  {
   "cell_type": "code",
   "execution_count": 21,
   "id": "98f995c5",
   "metadata": {},
   "outputs": [
    {
     "data": {
      "text/plain": [
       "array([[1, 2],\n",
       "       [3, 4]])"
      ]
     },
     "execution_count": 21,
     "metadata": {},
     "output_type": "execute_result"
    }
   ],
   "source": [
    "a.shape = 2,2\n",
    "a"
   ]
  },
  {
   "cell_type": "markdown",
   "id": "33b50aff",
   "metadata": {},
   "source": [
    "<font color=black size=4 face=雅黑>**多维数组**</font>"
   ]
  },
  {
   "cell_type": "markdown",
   "id": "09756ee4",
   "metadata": {},
   "source": [
    "a现在变成了一个二维的数组，可以进行加法："
   ]
  },
  {
   "cell_type": "code",
   "execution_count": 22,
   "id": "433e9c66",
   "metadata": {},
   "outputs": [
    {
     "data": {
      "text/plain": [
       "array([[2, 4],\n",
       "       [6, 8]])"
      ]
     },
     "execution_count": 22,
     "metadata": {},
     "output_type": "execute_result"
    }
   ],
   "source": [
    "a + a"
   ]
  },
  {
   "cell_type": "markdown",
   "id": "f11cdcdd",
   "metadata": {},
   "source": [
    "乘法仍然是对应元素的乘积，并不是按照矩阵乘法来计算："
   ]
  },
  {
   "cell_type": "code",
   "execution_count": 23,
   "id": "4f1c7815",
   "metadata": {},
   "outputs": [
    {
     "data": {
      "text/plain": [
       "array([[ 1,  4],\n",
       "       [ 9, 16]])"
      ]
     },
     "execution_count": 23,
     "metadata": {},
     "output_type": "execute_result"
    }
   ],
   "source": [
    "a * a"
   ]
  },
  {
   "cell_type": "markdown",
   "id": "084f7539",
   "metadata": {},
   "source": [
    "<font color=black size=4 face=雅黑>**画图**</font>"
   ]
  },
  {
   "cell_type": "markdown",
   "id": "5dd45f2b",
   "metadata": {},
   "source": [
    "linspace 用来生成一组等间隔的数据："
   ]
  },
  {
   "cell_type": "code",
   "execution_count": 25,
   "id": "efc6a118",
   "metadata": {},
   "outputs": [
    {
     "data": {
      "text/plain": [
       "array([0.   , 0.314, 0.628, 0.942, 1.257, 1.571, 1.885, 2.199, 2.513,\n",
       "       2.827, 3.142, 3.456, 3.77 , 4.084, 4.398, 4.712, 5.027, 5.341,\n",
       "       5.655, 5.969, 6.283])"
      ]
     },
     "execution_count": 25,
     "metadata": {},
     "output_type": "execute_result"
    }
   ],
   "source": [
    "a = linspace(0, 2*pi, 21)\n",
    "%precision 3\n",
    "a"
   ]
  },
  {
   "cell_type": "markdown",
   "id": "1fec8816",
   "metadata": {},
   "source": [
    "三角函数："
   ]
  },
  {
   "cell_type": "code",
   "execution_count": 26,
   "id": "0540d542",
   "metadata": {},
   "outputs": [
    {
     "data": {
      "text/plain": [
       "array([ 0.000e+00,  3.090e-01,  5.878e-01,  8.090e-01,  9.511e-01,\n",
       "        1.000e+00,  9.511e-01,  8.090e-01,  5.878e-01,  3.090e-01,\n",
       "        1.225e-16, -3.090e-01, -5.878e-01, -8.090e-01, -9.511e-01,\n",
       "       -1.000e+00, -9.511e-01, -8.090e-01, -5.878e-01, -3.090e-01,\n",
       "       -2.449e-16])"
      ]
     },
     "execution_count": 26,
     "metadata": {},
     "output_type": "execute_result"
    }
   ],
   "source": [
    "b = sin(a)\n",
    "b"
   ]
  },
  {
   "cell_type": "markdown",
   "id": "fff6057c",
   "metadata": {},
   "source": [
    "画出图像："
   ]
  },
  {
   "cell_type": "code",
   "execution_count": 27,
   "id": "65ad1b9a",
   "metadata": {},
   "outputs": [
    {
     "data": {
      "text/plain": [
       "[<matplotlib.lines.Line2D at 0x7f8db8863af0>]"
      ]
     },
     "execution_count": 27,
     "metadata": {},
     "output_type": "execute_result"
    },
    {
     "data": {
      "image/png": "[encoded data removed]",
      "text/plain": [
       "<Figure size 432x288 with 1 Axes>"
      ]
     },
     "metadata": {
      "needs_background": "light"
     },
     "output_type": "display_data"
    }
   ],
   "source": [
    "%matplotlib inline\n",
    "plot(a, b)"
   ]
  },
  {
   "cell_type": "markdown",
   "id": "08e70bef",
   "metadata": {},
   "source": [
    "<font color=black size=4 face=雅黑>**从数组种选择元素**</font>"
   ]
  },
  {
   "cell_type": "markdown",
   "id": "3219a6b2",
   "metadata": {},
   "source": [
    "假设我们想选取数组b中所有非负的部分，首先可以利用 b 产生一组布尔值："
   ]
  },
  {
   "cell_type": "code",
   "execution_count": 28,
   "id": "2f5cc99c",
   "metadata": {},
   "outputs": [
    {
     "data": {
      "text/plain": [
       "array([ True,  True,  True,  True,  True,  True,  True,  True,  True,\n",
       "        True,  True, False, False, False, False, False, False, False,\n",
       "       False, False, False])"
      ]
     },
     "execution_count": 28,
     "metadata": {},
     "output_type": "execute_result"
    }
   ],
   "source": [
    "b >= 0"
   ]
  },
  {
   "cell_type": "code",
   "execution_count": 29,
   "id": "170bfacc",
   "metadata": {},
   "outputs": [],
   "source": [
    "mask = b >= 0"
   ]
  },
  {
   "cell_type": "markdown",
   "id": "6d588df3",
   "metadata": {},
   "source": [
    "画出所有对应的非负值对应的点："
   ]
  },
  {
   "cell_type": "code",
   "execution_count": 30,
   "id": "72dd461a",
   "metadata": {},
   "outputs": [
    {
     "data": {
      "text/plain": [
       "[<matplotlib.lines.Line2D at 0x7f8dc0b39640>]"
      ]
     },
     "execution_count": 30,
     "metadata": {},
     "output_type": "execute_result"
    },
    {
     "data": {
      "image/png": "[encoded data removed]",
      "text/plain": [
       "<Figure size 432x288 with 1 Axes>"
      ]
     },
     "metadata": {
      "needs_background": "light"
     },
     "output_type": "display_data"
    }
   ],
   "source": [
    "plot(a[mask], b[mask], 'ro')"
   ]
  },
  {
   "cell_type": "markdown",
   "id": "257fefa0",
   "metadata": {},
   "source": [
    "\n",
    "\n",
    "<font color=black size=6 face=雅黑>**2 Matplotlib基础**</font>"
   ]
  },
  {
   "cell_type": "markdown",
   "id": "518d0295",
   "metadata": {},
   "source": [
    "Matplotlib是一个类似Matlab的工具包，主页地址为\n",
    "\n",
    "http://matplotlib.org\n",
    "\n",
    "导入 matplotlib 和 numpy："
   ]
  },
  {
   "cell_type": "code",
   "execution_count": 31,
   "id": "21c63442",
   "metadata": {},
   "outputs": [
    {
     "name": "stdout",
     "output_type": "stream",
     "text": [
      "Using matplotlib backend: MacOSX\n",
      "%pylab is deprecated, use %matplotlib inline and import the required libraries.\n",
      "Populating the interactive namespace from numpy and matplotlib\n"
     ]
    }
   ],
   "source": [
    "%pylab"
   ]
  },
  {
   "cell_type": "markdown",
   "id": "b07781b2",
   "metadata": {},
   "source": [
    "<font color=black size=4 face=雅黑>**plot二维图**</font>"
   ]
  },
  {
   "cell_type": "markdown",
   "id": "f3babea3",
   "metadata": {},
   "source": [
    "plot(y)\n",
    "\n",
    "plot(x, y)\n",
    "\n",
    "plot(x, y, format_string)\n",
    "\n",
    "只给定y值，默认以下标为x轴："
   ]
  },
  {
   "cell_type": "code",
   "execution_count": 32,
   "id": "36ce975b",
   "metadata": {},
   "outputs": [
    {
     "data": {
      "text/plain": [
       "[<matplotlib.lines.Line2D at 0x7f8dd0a0dcd0>]"
      ]
     },
     "execution_count": 32,
     "metadata": {},
     "output_type": "execute_result"
    },
    {
     "data": {
      "image/png": "[encoded data removed]",
      "text/plain": [
       "<Figure size 432x288 with 1 Axes>"
      ]
     },
     "metadata": {
      "needs_background": "light"
     },
     "output_type": "display_data"
    }
   ],
   "source": [
    "%matplotlib inline\n",
    "x = linspace(0, 2 *pi, 50)\n",
    "plot(sin(x))"
   ]
  },
  {
   "cell_type": "markdown",
   "id": "2340fcaf",
   "metadata": {},
   "source": [
    "给定x 和 y 值："
   ]
  },
  {
   "cell_type": "code",
   "execution_count": 33,
   "id": "b2df5c7d",
   "metadata": {},
   "outputs": [
    {
     "data": {
      "text/plain": [
       "[<matplotlib.lines.Line2D at 0x7f8d80112a00>]"
      ]
     },
     "execution_count": 33,
     "metadata": {},
     "output_type": "execute_result"
    },
    {
     "data": {
      "image/png": "[encoded data removed]",
      "text/plain": [
       "<Figure size 432x288 with 1 Axes>"
      ]
     },
     "metadata": {
      "needs_background": "light"
     },
     "output_type": "display_data"
    }
   ],
   "source": [
    "plot(x, sin(x))"
   ]
  },
  {
   "cell_type": "markdown",
   "id": "0d8f0048",
   "metadata": {},
   "source": [
    "多条数据线："
   ]
  },
  {
   "cell_type": "code",
   "execution_count": 34,
   "id": "7fb0e5e7",
   "metadata": {},
   "outputs": [
    {
     "data": {
      "text/plain": [
       "[<matplotlib.lines.Line2D at 0x7f8dd0be73d0>,\n",
       " <matplotlib.lines.Line2D at 0x7f8dd0be7430>]"
      ]
     },
     "execution_count": 34,
     "metadata": {},
     "output_type": "execute_result"
    },
    {
     "data": {
      "image/png": "[encoded data removed]",
      "text/plain": [
       "<Figure size 432x288 with 1 Axes>"
      ]
     },
     "metadata": {
      "needs_background": "light"
     },
     "output_type": "display_data"
    }
   ],
   "source": [
    "plot(x, sin(x),\n",
    "    x, sin(2 * x))"
   ]
  },
  {
   "cell_type": "markdown",
   "id": "7626cc27",
   "metadata": {},
   "source": [
    "使用字符串，给定线条参数："
   ]
  },
  {
   "cell_type": "code",
   "execution_count": 35,
   "id": "c4d4f2cd",
   "metadata": {},
   "outputs": [
    {
     "data": {
      "text/plain": [
       "[<matplotlib.lines.Line2D at 0x7f8dd0c5d0a0>]"
      ]
     },
     "execution_count": 35,
     "metadata": {},
     "output_type": "execute_result"
    },
    {
     "data": {
      "image/png": "[encoded data removed]",
      "text/plain": [
       "<Figure size 432x288 with 1 Axes>"
      ]
     },
     "metadata": {
      "needs_background": "light"
     },
     "output_type": "display_data"
    }
   ],
   "source": [
    "plot(x, sin(x), 'r-^')"
   ]
  },
  {
   "cell_type": "markdown",
   "id": "81f88199",
   "metadata": {},
   "source": [
    "多条线："
   ]
  },
  {
   "cell_type": "code",
   "execution_count": 36,
   "id": "69e68828",
   "metadata": {},
   "outputs": [
    {
     "data": {
      "text/plain": [
       "[<matplotlib.lines.Line2D at 0x7f8de09037c0>,\n",
       " <matplotlib.lines.Line2D at 0x7f8de0903880>]"
      ]
     },
     "execution_count": 36,
     "metadata": {},
     "output_type": "execute_result"
    },
    {
     "data": {
      "image/png": "[encoded data removed]",
      "text/plain": [
       "<Figure size 432x288 with 1 Axes>"
      ]
     },
     "metadata": {
      "needs_background": "light"
     },
     "output_type": "display_data"
    }
   ],
   "source": [
    "plot(x, sin(x), 'b-o',\n",
    "    x, sin(2 *x), 'r-^')"
   ]
  },
  {
   "cell_type": "markdown",
   "id": "582421ef",
   "metadata": {},
   "source": [
    "<font color=black size=4 face=雅黑>**scatter 散点图**</font>"
   ]
  },
  {
   "cell_type": "markdown",
   "id": "cf13d5be",
   "metadata": {},
   "source": [
    "Scatter(x, y)\n",
    "\n",
    "Scatter(x, y, size)\n",
    "\n",
    "Scatter(x, y, size, color)\n",
    "\n",
    "假设我们想画二维散点图："
   ]
  },
  {
   "cell_type": "code",
   "execution_count": 37,
   "id": "91d98778",
   "metadata": {},
   "outputs": [
    {
     "data": {
      "text/plain": [
       "[<matplotlib.lines.Line2D at 0x7f8dd0adfeb0>]"
      ]
     },
     "execution_count": 37,
     "metadata": {},
     "output_type": "execute_result"
    },
    {
     "data": {
      "image/png": "[encoded data removed]",
      "text/plain": [
       "<Figure size 432x288 with 1 Axes>"
      ]
     },
     "metadata": {
      "needs_background": "light"
     },
     "output_type": "display_data"
    }
   ],
   "source": [
    "plot(x, sin(x), 'bo')"
   ]
  },
  {
   "cell_type": "markdown",
   "id": "ce950b21",
   "metadata": {},
   "source": [
    "可以使用 scatter 达到同样的效果："
   ]
  },
  {
   "cell_type": "code",
   "execution_count": 38,
   "id": "5a6149e9",
   "metadata": {},
   "outputs": [
    {
     "data": {
      "text/plain": [
       "<matplotlib.collections.PathCollection at 0x7f8dd0d456d0>"
      ]
     },
     "execution_count": 38,
     "metadata": {},
     "output_type": "execute_result"
    },
    {
     "data": {
      "image/png": "[encoded data removed]",
      "text/plain": [
       "<Figure size 432x288 with 1 Axes>"
      ]
     },
     "metadata": {
      "needs_background": "light"
     },
     "output_type": "display_data"
    }
   ],
   "source": [
    "scatter(x, sin(x))"
   ]
  },
  {
   "cell_type": "markdown",
   "id": "bdb172cd",
   "metadata": {},
   "source": [
    "scatter函数与Matlab的用法相同，还可以指定它的大小，颜色等参数："
   ]
  },
  {
   "cell_type": "code",
   "execution_count": 39,
   "id": "1225a847",
   "metadata": {},
   "outputs": [
    {
     "data": {
      "text/plain": [
       "<matplotlib.colorbar.Colorbar at 0x7f8db022a310>"
      ]
     },
     "execution_count": 39,
     "metadata": {},
     "output_type": "execute_result"
    },
    {
     "data": {
      "image/png": "[encoded data removed]",
      "text/plain": [
       "<Figure size 432x288 with 2 Axes>"
      ]
     },
     "metadata": {
      "needs_background": "light"
     },
     "output_type": "display_data"
    }
   ],
   "source": [
    "x = rand(200)\n",
    "y = rand(200)\n",
    "size = rand(200) * 30\n",
    "color = rand(200)\n",
    "scatter(x, y, size, color)\n",
    "colorbar()"
   ]
  },
  {
   "cell_type": "markdown",
   "id": "0884e0cf",
   "metadata": {},
   "source": [
    "<font color=black size=4 face=雅黑>**多图**</font>"
   ]
  },
  {
   "cell_type": "markdown",
   "id": "6bb52d02",
   "metadata": {},
   "source": [
    "使用figure()命令产生新的图像：\n"
   ]
  },
  {
   "cell_type": "code",
   "execution_count": 40,
   "id": "e91a696d",
   "metadata": {},
   "outputs": [
    {
     "data": {
      "text/plain": [
       "[<matplotlib.lines.Line2D at 0x7f8dd0e29a90>]"
      ]
     },
     "execution_count": 40,
     "metadata": {},
     "output_type": "execute_result"
    },
    {
     "data": {
      "image/png": "[encoded data removed]",
      "text/plain": [
       "<Figure size 432x288 with 1 Axes>"
      ]
     },
     "metadata": {
      "needs_background": "light"
     },
     "output_type": "display_data"
    },
    {
     "data": {
      "image/png": "[encoded data removed]",
      "text/plain": [
       "<Figure size 432x288 with 1 Axes>"
      ]
     },
     "metadata": {
      "needs_background": "light"
     },
     "output_type": "display_data"
    }
   ],
   "source": [
    "t = linspace(0, 2*pi, 50)\n",
    "x = sin(t)\n",
    "y = cos(t)\n",
    "figure()\n",
    "plot(x)\n",
    "figure()\n",
    "plot(y)"
   ]
  },
  {
   "cell_type": "markdown",
   "id": "7b6ef487",
   "metadata": {},
   "source": [
    "或者使用 subplot 在一幅图中画多幅子图：\n",
    "\n",
    "subplot(row, column, index)"
   ]
  },
  {
   "cell_type": "code",
   "execution_count": 41,
   "id": "ebeff5bf",
   "metadata": {},
   "outputs": [
    {
     "data": {
      "text/plain": [
       "[<matplotlib.lines.Line2D at 0x7f8d70033220>]"
      ]
     },
     "execution_count": 41,
     "metadata": {},
     "output_type": "execute_result"
    },
    {
     "data": {
      "image/png": "[encoded data removed]",
      "text/plain": [
       "<Figure size 432x288 with 2 Axes>"
      ]
     },
     "metadata": {
      "needs_background": "light"
     },
     "output_type": "display_data"
    }
   ],
   "source": [
    "subplot(1, 2, 1)\n",
    "plot(x)\n",
    "subplot(1, 2, 2)\n",
    "plot(y)"
   ]
  },
  {
   "cell_type": "markdown",
   "id": "6fa4fd92",
   "metadata": {},
   "source": [
    "<font color=black size=4 face=雅黑>**向图中添加数据**</font>"
   ]
  },
  {
   "cell_type": "markdown",
   "id": "9c1ad95c",
   "metadata": {},
   "source": [
    "默认多次 plot 会叠加："
   ]
  },
  {
   "cell_type": "code",
   "execution_count": 43,
   "id": "0136f90b",
   "metadata": {},
   "outputs": [
    {
     "data": {
      "text/plain": [
       "[<matplotlib.lines.Line2D at 0x7f8dd10ead30>]"
      ]
     },
     "execution_count": 43,
     "metadata": {},
     "output_type": "execute_result"
    },
    {
     "data": {
      "image/png": "[encoded data removed]",
      "text/plain": [
       "<Figure size 432x288 with 1 Axes>"
      ]
     },
     "metadata": {
      "needs_background": "light"
     },
     "output_type": "display_data"
    }
   ],
   "source": [
    "plot (x)\n",
    "plot (y)"
   ]
  },
  {
   "cell_type": "markdown",
   "id": "f44c2b0f",
   "metadata": {},
   "source": [
    "###****可以跟Matlab类似用 hold(False)关掉，这样新图会将原图覆盖："
   ]
  },
  {
   "cell_type": "code",
   "execution_count": 46,
   "id": "ce5b739a",
   "metadata": {},
   "outputs": [
    {
     "ename": "NameError",
     "evalue": "name 'hold' is not defined",
     "output_type": "error",
     "traceback": [
      "\u001b[0;31m---------------------------------------------------------------------------\u001b[0m",
      "\u001b[0;31mNameError\u001b[0m                                 Traceback (most recent call last)",
      "Input \u001b[0;32mIn [46]\u001b[0m, in \u001b[0;36m<cell line: 2>\u001b[0;34m()\u001b[0m\n\u001b[1;32m      1\u001b[0m plot (x)\n\u001b[0;32m----> 2\u001b[0m \u001b[43mhold\u001b[49m(\u001b[38;5;28;01mFalse\u001b[39;00m)\n\u001b[1;32m      3\u001b[0m plot(y)\n\u001b[1;32m      4\u001b[0m \u001b[38;5;66;03m#恢复原来设定\u001b[39;00m\n",
      "\u001b[0;31mNameError\u001b[0m: name 'hold' is not defined"
     ]
    },
    {
     "data": {
      "image/png": "[encoded data removed]",
      "text/plain": [
       "<Figure size 432x288 with 1 Axes>"
      ]
     },
     "metadata": {
      "needs_background": "light"
     },
     "output_type": "display_data"
    }
   ],
   "source": [
    "plot (x)\n",
    "hold(False)\n",
    "plot(y)\n",
    "#恢复原来设定\n",
    "hold(True)"
   ]
  },
  {
   "cell_type": "markdown",
   "id": "cad22695",
   "metadata": {},
   "source": [
    "<font color=black size=4 face=雅黑>**标签**</font>"
   ]
  },
  {
   "cell_type": "markdown",
   "id": "a8b3c06a",
   "metadata": {},
   "source": [
    "可以在 plot 中加入 label ，使用 legend 加上图例："
   ]
  },
  {
   "cell_type": "code",
   "execution_count": 47,
   "id": "d9fb3c55",
   "metadata": {},
   "outputs": [
    {
     "data": {
      "text/plain": [
       "<matplotlib.legend.Legend at 0x7f8dc0ca49d0>"
      ]
     },
     "execution_count": 47,
     "metadata": {},
     "output_type": "execute_result"
    },
    {
     "data": {
      "image/png": "[encoded data removed]",
      "text/plain": [
       "<Figure size 432x288 with 1 Axes>"
      ]
     },
     "metadata": {
      "needs_background": "light"
     },
     "output_type": "display_data"
    }
   ],
   "source": [
    "plot(x, label='sin')\n",
    "plot(y, label='cos')\n",
    "legend()"
   ]
  },
  {
   "cell_type": "markdown",
   "id": "6e28617c",
   "metadata": {},
   "source": [
    "或者直接在 legend中加入："
   ]
  },
  {
   "cell_type": "code",
   "execution_count": 48,
   "id": "5e54ef05",
   "metadata": {},
   "outputs": [
    {
     "data": {
      "text/plain": [
       "<matplotlib.legend.Legend at 0x7f8dd11cddf0>"
      ]
     },
     "execution_count": 48,
     "metadata": {},
     "output_type": "execute_result"
    },
    {
     "data": {
      "image/png": "[encoded data removed]",
      "text/plain": [
       "<Figure size 432x288 with 1 Axes>"
      ]
     },
     "metadata": {
      "needs_background": "light"
     },
     "output_type": "display_data"
    }
   ],
   "source": [
    "plot(x)\n",
    "plot(y)\n",
    "legend(['sin', 'cos'])"
   ]
  },
  {
   "cell_type": "markdown",
   "id": "5527a23e",
   "metadata": {},
   "source": [
    "<font color=black size=4 face=雅黑>**坐标轴， 标题， 网络**</font>"
   ]
  },
  {
   "cell_type": "markdown",
   "id": "85a230ac",
   "metadata": {},
   "source": [
    "可以设置坐标轴的标签和标题："
   ]
  },
  {
   "cell_type": "code",
   "execution_count": 49,
   "id": "969f536d",
   "metadata": {},
   "outputs": [
    {
     "data": {
      "text/plain": [
       "Text(0.5, 1.0, 'Sin(x)')"
      ]
     },
     "execution_count": 49,
     "metadata": {},
     "output_type": "execute_result"
    },
    {
     "data": {
      "image/png": "[encoded data removed]",
      "text/plain": [
       "<Figure size 432x288 with 1 Axes>"
      ]
     },
     "metadata": {
      "needs_background": "light"
     },
     "output_type": "display_data"
    }
   ],
   "source": [
    "plot(x, sin(x))\n",
    "xlabel('radians')\n",
    "#可以设置字体大小\n",
    "ylabel('amplitude', fontsize='large')\n",
    "title('Sin(x)')"
   ]
  },
  {
   "cell_type": "markdown",
   "id": "a54cc50c",
   "metadata": {},
   "source": [
    "用 'grid()' 来显示网格："
   ]
  },
  {
   "cell_type": "code",
   "execution_count": 50,
   "id": "95c0731d",
   "metadata": {},
   "outputs": [
    {
     "data": {
      "image/png": "[encoded data removed]",
      "text/plain": [
       "<Figure size 432x288 with 1 Axes>"
      ]
     },
     "metadata": {
      "needs_background": "light"
     },
     "output_type": "display_data"
    }
   ],
   "source": [
    "plot(x, sin(x))\n",
    "xlabel('radians')\n",
    "ylabel('amplitude', fontsize='large')\n",
    "title('Sin(x)')\n",
    "grid()"
   ]
  },
  {
   "cell_type": "markdown",
   "id": "3e1b750a",
   "metadata": {},
   "source": [
    "<font color=black size=4 face=雅黑>**清除,关闭图像**</font>"
   ]
  },
  {
   "cell_type": "markdown",
   "id": "a3f99391",
   "metadata": {},
   "source": [
    "清除已有的图像使用：\n",
    "\n",
    "clf()\n",
    "\n",
    "关闭当前图像：\n",
    "\n",
    "close()\n",
    "\n",
    "关闭所有图像：\n",
    "\n",
    "close('all')"
   ]
  },
  {
   "cell_type": "markdown",
   "id": "74da54c5",
   "metadata": {},
   "source": [
    "<font color=black size=4 face=雅黑>**inshow显示图片？？**</font>"
   ]
  },
  {
   "cell_type": "markdown",
   "id": "461ad26a",
   "metadata": {},
   "source": [
    "灰度图片可以看成二维数组："
   ]
  },
  {
   "cell_type": "code",
   "execution_count": 55,
   "id": "8597797d",
   "metadata": {},
   "outputs": [
    {
     "ename": "ImportError",
     "evalue": "cannot import name 'cat' from 'scipy.misc' (/Users/zhoujiling/opt/anaconda3/lib/python3.9/site-packages/scipy/misc/__init__.py)",
     "output_type": "error",
     "traceback": [
      "\u001b[0;31m---------------------------------------------------------------------------\u001b[0m",
      "\u001b[0;31mImportError\u001b[0m                               Traceback (most recent call last)",
      "Input \u001b[0;32mIn [55]\u001b[0m, in \u001b[0;36m<cell line: 2>\u001b[0;34m()\u001b[0m\n\u001b[1;32m      1\u001b[0m \u001b[38;5;66;03m# 导入lena图片\u001b[39;00m\n\u001b[0;32m----> 2\u001b[0m \u001b[38;5;28;01mfrom\u001b[39;00m \u001b[38;5;21;01mscipy\u001b[39;00m\u001b[38;5;21;01m.\u001b[39;00m\u001b[38;5;21;01mmisc\u001b[39;00m \u001b[38;5;28;01mimport\u001b[39;00m cat\n\u001b[1;32m      3\u001b[0m img \u001b[38;5;241m=\u001b[39m cat()\n\u001b[1;32m      4\u001b[0m img\n",
      "\u001b[0;31mImportError\u001b[0m: cannot import name 'cat' from 'scipy.misc' (/Users/zhoujiling/opt/anaconda3/lib/python3.9/site-packages/scipy/misc/__init__.py)"
     ]
    }
   ],
   "source": [
    "# 导入lena图片\n",
    "from scipy.misc import cat\n",
    "img = cat()\n",
    "img"
   ]
  },
  {
   "cell_type": "markdown",
   "id": "3f4556dd",
   "metadata": {},
   "source": [
    "<font color=black size=4 face=雅黑>**直方图**</font>"
   ]
  },
  {
   "cell_type": "markdown",
   "id": "462ad42b",
   "metadata": {},
   "source": [
    "从高斯分布随机生成1000个点得到的直方图："
   ]
  },
  {
   "cell_type": "code",
   "execution_count": 56,
   "id": "9b9c4a9b",
   "metadata": {},
   "outputs": [
    {
     "data": {
      "text/plain": [
       "(array([119.,  92., 103.,  96.,  93.,  99., 108., 106.,  85.,  99.]),\n",
       " array([7.632e-05, 9.955e-02, 1.990e-01, 2.985e-01, 3.980e-01, 4.975e-01,\n",
       "        5.969e-01, 6.964e-01, 7.959e-01, 8.954e-01, 9.948e-01]),\n",
       " <BarContainer object of 10 artists>)"
      ]
     },
     "execution_count": 56,
     "metadata": {},
     "output_type": "execute_result"
    },
    {
     "data": {
      "image/png": "[encoded data removed]",
      "text/plain": [
       "<Figure size 432x288 with 1 Axes>"
      ]
     },
     "metadata": {
      "needs_background": "light"
     },
     "output_type": "display_data"
    }
   ],
   "source": [
    "hist(rand(1000))"
   ]
  },
  {
   "cell_type": "markdown",
   "id": "a931c157",
   "metadata": {},
   "source": [
    "\n",
    "\n",
    "<font color=black size=6 face=雅黑>**3 Numpy数组及其索引**</font>"
   ]
  },
  {
   "cell_type": "markdown",
   "id": "8c618199",
   "metadata": {},
   "source": [
    "先导入Numpy:"
   ]
  },
  {
   "cell_type": "code",
   "execution_count": 58,
   "id": "d635d052",
   "metadata": {},
   "outputs": [],
   "source": [
    "import numpy as np"
   ]
  },
  {
   "cell_type": "markdown",
   "id": "3baf2e54",
   "metadata": {},
   "source": [
    "<font color=black size=4 face=雅黑>**产生数组**</font>"
   ]
  },
  {
   "cell_type": "markdown",
   "id": "d97a78a5",
   "metadata": {},
   "source": [
    "从列表产生数组："
   ]
  },
  {
   "cell_type": "code",
   "execution_count": 61,
   "id": "f4a263bd",
   "metadata": {},
   "outputs": [
    {
     "data": {
      "text/plain": [
       "array([0, 1, 2, 3])"
      ]
     },
     "execution_count": 61,
     "metadata": {},
     "output_type": "execute_result"
    }
   ],
   "source": [
    "lst = [0,1,2,3]\n",
    "a = array(lst)\n",
    "a"
   ]
  },
  {
   "cell_type": "markdown",
   "id": "3c0381a4",
   "metadata": {},
   "source": [
    "或者直接将列表传入："
   ]
  },
  {
   "cell_type": "code",
   "execution_count": 62,
   "id": "351b57dd",
   "metadata": {},
   "outputs": [
    {
     "data": {
      "text/plain": [
       "array([1, 2, 3, 4])"
      ]
     },
     "execution_count": 62,
     "metadata": {},
     "output_type": "execute_result"
    }
   ],
   "source": [
    "a = array([1,2,3,4])\n",
    "a"
   ]
  },
  {
   "cell_type": "markdown",
   "id": "c4ff3750",
   "metadata": {},
   "source": [
    "<font color=black size=4 face=雅黑>**数组属性**</font>"
   ]
  },
  {
   "cell_type": "markdown",
   "id": "0b7ed34b",
   "metadata": {},
   "source": [
    "查看类型:"
   ]
  },
  {
   "cell_type": "code",
   "execution_count": 63,
   "id": "078e4f66",
   "metadata": {},
   "outputs": [
    {
     "data": {
      "text/plain": [
       "numpy.ndarray"
      ]
     },
     "execution_count": 63,
     "metadata": {},
     "output_type": "execute_result"
    }
   ],
   "source": [
    "type(a)"
   ]
  },
  {
   "cell_type": "markdown",
   "id": "34d30e87",
   "metadata": {},
   "source": [
    "查看数组种的数据类型："
   ]
  },
  {
   "cell_type": "code",
   "execution_count": 66,
   "id": "20e94717",
   "metadata": {},
   "outputs": [
    {
     "data": {
      "text/plain": [
       "dtype('int64')"
      ]
     },
     "execution_count": 66,
     "metadata": {},
     "output_type": "execute_result"
    }
   ],
   "source": [
    "#32比特的整数\n",
    "a.dtype"
   ]
  },
  {
   "cell_type": "markdown",
   "id": "c081deda",
   "metadata": {},
   "source": [
    "查看每个元素所占的字节："
   ]
  },
  {
   "cell_type": "code",
   "execution_count": 67,
   "id": "2ee31829",
   "metadata": {},
   "outputs": [
    {
     "data": {
      "text/plain": [
       "8"
      ]
     },
     "execution_count": 67,
     "metadata": {},
     "output_type": "execute_result"
    }
   ],
   "source": [
    "a.itemsize"
   ]
  },
  {
   "cell_type": "markdown",
   "id": "89ec8926",
   "metadata": {},
   "source": [
    "查看形状，会返回一个元组，每个元素代表这一维的元素数目："
   ]
  },
  {
   "cell_type": "code",
   "execution_count": 68,
   "id": "c31d5f70",
   "metadata": {},
   "outputs": [
    {
     "data": {
      "text/plain": [
       "(4,)"
      ]
     },
     "execution_count": 68,
     "metadata": {},
     "output_type": "execute_result"
    }
   ],
   "source": [
    "#1维数组，返回一个元组\n",
    "a.shape"
   ]
  },
  {
   "cell_type": "markdown",
   "id": "b2c60e2f",
   "metadata": {},
   "source": [
    "或者使用："
   ]
  },
  {
   "cell_type": "code",
   "execution_count": 69,
   "id": "fa48c072",
   "metadata": {},
   "outputs": [
    {
     "data": {
      "text/plain": [
       "(4,)"
      ]
     },
     "execution_count": 69,
     "metadata": {},
     "output_type": "execute_result"
    }
   ],
   "source": [
    "shape(a)"
   ]
  },
  {
   "cell_type": "markdown",
   "id": "945046f1",
   "metadata": {},
   "source": [
    "shape 的使用历史要比 a.shape 久，而且还可以作用于别的类型："
   ]
  },
  {
   "cell_type": "code",
   "execution_count": 70,
   "id": "18cf1b97",
   "metadata": {},
   "outputs": [
    {
     "data": {
      "text/plain": [
       "(4,)"
      ]
     },
     "execution_count": 70,
     "metadata": {},
     "output_type": "execute_result"
    }
   ],
   "source": [
    "lst = [1,2,3,4]\n",
    "shape(lst)"
   ]
  },
  {
   "cell_type": "markdown",
   "id": "563533f4",
   "metadata": {},
   "source": [
    "查看元祖数目："
   ]
  },
  {
   "cell_type": "code",
   "execution_count": 71,
   "id": "a0551c37",
   "metadata": {},
   "outputs": [
    {
     "data": {
      "text/plain": [
       "4"
      ]
     },
     "execution_count": 71,
     "metadata": {},
     "output_type": "execute_result"
    }
   ],
   "source": [
    "a.size"
   ]
  },
  {
   "cell_type": "code",
   "execution_count": 72,
   "id": "a9b8294f",
   "metadata": {},
   "outputs": [
    {
     "data": {
      "text/plain": [
       "4"
      ]
     },
     "execution_count": 72,
     "metadata": {},
     "output_type": "execute_result"
    }
   ],
   "source": [
    "size(a)"
   ]
  },
  {
   "cell_type": "markdown",
   "id": "f6b3b5a3",
   "metadata": {},
   "source": [
    "查看所有元素所占的空间："
   ]
  },
  {
   "cell_type": "code",
   "execution_count": 73,
   "id": "5b013c47",
   "metadata": {},
   "outputs": [
    {
     "data": {
      "text/plain": [
       "32"
      ]
     },
     "execution_count": 73,
     "metadata": {},
     "output_type": "execute_result"
    }
   ],
   "source": [
    "a.nbytes"
   ]
  },
  {
   "cell_type": "markdown",
   "id": "ed237c63",
   "metadata": {},
   "source": [
    "但事实上，数组所占的存储空间要比这个数字大，因为要用一个header来保存shape，dtype这样的信息。\n",
    "\n",
    "查看数组维数："
   ]
  },
  {
   "cell_type": "code",
   "execution_count": 74,
   "id": "128ab10f",
   "metadata": {},
   "outputs": [
    {
     "data": {
      "text/plain": [
       "1"
      ]
     },
     "execution_count": 74,
     "metadata": {},
     "output_type": "execute_result"
    }
   ],
   "source": [
    "a.ndim"
   ]
  },
  {
   "cell_type": "markdown",
   "id": "733e392a",
   "metadata": {},
   "source": [
    "<font color=black size=4 face=雅黑>**使用fill方法设定初始值**</font>"
   ]
  },
  {
   "cell_type": "markdown",
   "id": "fa8be603",
   "metadata": {},
   "source": [
    "可以使用 fill 方法将数组设为指定值："
   ]
  },
  {
   "cell_type": "code",
   "execution_count": 75,
   "id": "53e51c67",
   "metadata": {},
   "outputs": [
    {
     "data": {
      "text/plain": [
       "array([-4, -4, -4, -4])"
      ]
     },
     "execution_count": 75,
     "metadata": {},
     "output_type": "execute_result"
    }
   ],
   "source": [
    "a.fill(-4.8)\n",
    "a"
   ]
  },
  {
   "cell_type": "markdown",
   "id": "21375368",
   "metadata": {},
   "source": [
    "但是与列表不同，数组中要求所有元素的 dtype 是一样的，如果传入参数的类型与数组类型不一样，需要按照已有的类型进行转换。"
   ]
  },
  {
   "cell_type": "markdown",
   "id": "ff078a7c",
   "metadata": {},
   "source": [
    "<font color=black size=4 face=雅黑>**索引与切片**</font>"
   ]
  },
  {
   "cell_type": "markdown",
   "id": "affe1638",
   "metadata": {},
   "source": [
    "和列表相似，数组也支持索引和切片操作。\n",
    "\n",
    "索引第一个元素:"
   ]
  },
  {
   "cell_type": "code",
   "execution_count": 76,
   "id": "9c772417",
   "metadata": {},
   "outputs": [
    {
     "data": {
      "text/plain": [
       "0"
      ]
     },
     "execution_count": 76,
     "metadata": {},
     "output_type": "execute_result"
    }
   ],
   "source": [
    "a = array([0,1,2,3])\n",
    "a[0]"
   ]
  },
  {
   "cell_type": "markdown",
   "id": "9e4a1c5e",
   "metadata": {},
   "source": [
    "修改第一个元素的值："
   ]
  },
  {
   "cell_type": "code",
   "execution_count": 77,
   "id": "b38a3b19",
   "metadata": {},
   "outputs": [
    {
     "data": {
      "text/plain": [
       "array([10,  1,  2,  3])"
      ]
     },
     "execution_count": 77,
     "metadata": {},
     "output_type": "execute_result"
    }
   ],
   "source": [
    "a[0] = 10\n",
    "a"
   ]
  },
  {
   "cell_type": "markdown",
   "id": "dd972b9f",
   "metadata": {},
   "source": [
    "切片，支持负索引："
   ]
  },
  {
   "cell_type": "code",
   "execution_count": 78,
   "id": "64e9a687",
   "metadata": {},
   "outputs": [
    {
     "data": {
      "text/plain": [
       "array([12, 13])"
      ]
     },
     "execution_count": 78,
     "metadata": {},
     "output_type": "execute_result"
    }
   ],
   "source": [
    "a = array([11,12,13,14,15])\n",
    "a[1:3]"
   ]
  },
  {
   "cell_type": "code",
   "execution_count": 79,
   "id": "9d347304",
   "metadata": {},
   "outputs": [
    {
     "data": {
      "text/plain": [
       "array([12, 13])"
      ]
     },
     "execution_count": 79,
     "metadata": {},
     "output_type": "execute_result"
    }
   ],
   "source": [
    "a[1:-2]"
   ]
  },
  {
   "cell_type": "code",
   "execution_count": 80,
   "id": "36d8590f",
   "metadata": {},
   "outputs": [
    {
     "data": {
      "text/plain": [
       "array([12, 13])"
      ]
     },
     "execution_count": 80,
     "metadata": {},
     "output_type": "execute_result"
    }
   ],
   "source": [
    "a[-4:3]"
   ]
  },
  {
   "cell_type": "markdown",
   "id": "590b5bfc",
   "metadata": {},
   "source": [
    "省略参数："
   ]
  },
  {
   "cell_type": "code",
   "execution_count": 81,
   "id": "c1d3e875",
   "metadata": {},
   "outputs": [
    {
     "data": {
      "text/plain": [
       "array([11, 13, 15])"
      ]
     },
     "execution_count": 81,
     "metadata": {},
     "output_type": "execute_result"
    }
   ],
   "source": [
    "a[::2]"
   ]
  },
  {
   "cell_type": "code",
   "execution_count": 82,
   "id": "1b9e1106",
   "metadata": {},
   "outputs": [
    {
     "data": {
      "text/plain": [
       "array([14, 15])"
      ]
     },
     "execution_count": 82,
     "metadata": {},
     "output_type": "execute_result"
    }
   ],
   "source": [
    "a[-2:]"
   ]
  },
  {
   "cell_type": "markdown",
   "id": "5e437bd8",
   "metadata": {},
   "source": [
    "假设我们记录一辆汽车表盘上每天显示的里程数："
   ]
  },
  {
   "cell_type": "code",
   "execution_count": 83,
   "id": "15d59f26",
   "metadata": {},
   "outputs": [],
   "source": [
    "od = array([21000, 21180, 21240, 22100, 22400])"
   ]
  },
  {
   "cell_type": "markdown",
   "id": "b0a51845",
   "metadata": {},
   "source": [
    "可以这样计算每天的旅程："
   ]
  },
  {
   "cell_type": "code",
   "execution_count": 84,
   "id": "a9c3fd0f",
   "metadata": {},
   "outputs": [
    {
     "data": {
      "text/plain": [
       "array([180,  60, 860, 300])"
      ]
     },
     "execution_count": 84,
     "metadata": {},
     "output_type": "execute_result"
    }
   ],
   "source": [
    "dist = od[1:] - od[:-1]\n",
    "dist"
   ]
  },
  {
   "cell_type": "markdown",
   "id": "405c33a0",
   "metadata": {},
   "source": [
    "<font color=black size=4 face=雅黑>**多维数组及其属性**</font>"
   ]
  },
  {
   "cell_type": "markdown",
   "id": "56f0b692",
   "metadata": {},
   "source": [
    "array 还可以用来生成多维数组："
   ]
  },
  {
   "cell_type": "code",
   "execution_count": 86,
   "id": "197d1eb4",
   "metadata": {},
   "outputs": [
    {
     "data": {
      "text/plain": [
       "array([[ 0,  1,  2,  3],\n",
       "       [10, 11, 12, 14]])"
      ]
     },
     "execution_count": 86,
     "metadata": {},
     "output_type": "execute_result"
    }
   ],
   "source": [
    "a = array([[0,1,2,3],\n",
    "           [10,11,12,14]])\n",
    "a"
   ]
  },
  {
   "cell_type": "markdown",
   "id": "d35bcd0c",
   "metadata": {},
   "source": [
    "事实上我们传入的是一个以列表为元素的列表，最终得到一个二维数组。\n",
    "\n",
    "甚至可以扩展到3D或者4D的情景。\n",
    "\n",
    "查看形状："
   ]
  },
  {
   "cell_type": "code",
   "execution_count": 87,
   "id": "f389d8f2",
   "metadata": {},
   "outputs": [
    {
     "data": {
      "text/plain": [
       "(2, 4)"
      ]
     },
     "execution_count": 87,
     "metadata": {},
     "output_type": "execute_result"
    }
   ],
   "source": [
    "a.shape"
   ]
  },
  {
   "cell_type": "markdown",
   "id": "4c479b5d",
   "metadata": {},
   "source": [
    "这里2代表行数，4代表列数。\n",
    "\n",
    "查看总的元素个数："
   ]
  },
  {
   "cell_type": "code",
   "execution_count": 88,
   "id": "afab883a",
   "metadata": {},
   "outputs": [
    {
     "data": {
      "text/plain": [
       "8"
      ]
     },
     "execution_count": 88,
     "metadata": {},
     "output_type": "execute_result"
    }
   ],
   "source": [
    "# 2 * 4 = 8\n",
    "a.size"
   ]
  },
  {
   "cell_type": "markdown",
   "id": "7e541c65",
   "metadata": {},
   "source": [
    " 查看维数："
   ]
  },
  {
   "cell_type": "code",
   "execution_count": 89,
   "id": "34735d9f",
   "metadata": {},
   "outputs": [
    {
     "data": {
      "text/plain": [
       "2"
      ]
     },
     "execution_count": 89,
     "metadata": {},
     "output_type": "execute_result"
    }
   ],
   "source": [
    "a.ndim"
   ]
  },
  {
   "cell_type": "markdown",
   "id": "112254c2",
   "metadata": {},
   "source": [
    "<font color=black size=4 face=雅黑>**多维数组索引**</font>"
   ]
  },
  {
   "cell_type": "markdown",
   "id": "a5dc53f5",
   "metadata": {},
   "source": [
    "对于二维数组，可以传入两个数字来索引："
   ]
  },
  {
   "cell_type": "code",
   "execution_count": 91,
   "id": "68a7cf45",
   "metadata": {},
   "outputs": [
    {
     "data": {
      "text/plain": [
       "14"
      ]
     },
     "execution_count": 91,
     "metadata": {},
     "output_type": "execute_result"
    }
   ],
   "source": [
    "a[1,3]"
   ]
  },
  {
   "cell_type": "markdown",
   "id": "70c0e2f8",
   "metadata": {},
   "source": [
    "其中，1是行索引，4是列索引，中间用逗号隔开，事实上，Python会将它们看成一个元组(1,4)，然后按照顺序进行对应。\n",
    "\n",
    "可以利用索引给它赋值："
   ]
  },
  {
   "cell_type": "code",
   "execution_count": 93,
   "id": "dcb4c1a3",
   "metadata": {},
   "outputs": [
    {
     "data": {
      "text/plain": [
       "array([[ 0,  1,  2,  3],\n",
       "       [10, 11, 12, -1]])"
      ]
     },
     "execution_count": 93,
     "metadata": {},
     "output_type": "execute_result"
    }
   ],
   "source": [
    "a[1,3] = -1\n",
    "a"
   ]
  },
  {
   "cell_type": "code",
   "execution_count": 94,
   "id": "6fe6833d",
   "metadata": {},
   "outputs": [
    {
     "data": {
      "text/plain": [
       "array([10, 11, 12, -1])"
      ]
     },
     "execution_count": 94,
     "metadata": {},
     "output_type": "execute_result"
    }
   ],
   "source": [
    "# 返回第二行元组组成的array\n",
    "a[1]"
   ]
  },
  {
   "cell_type": "markdown",
   "id": "5a5cf302",
   "metadata": {},
   "source": [
    "<font color=black size=4 face=雅黑>**多维数组切片**</font>"
   ]
  },
  {
   "cell_type": "code",
   "execution_count": 100,
   "id": "83e26eb8",
   "metadata": {},
   "outputs": [
    {
     "data": {
      "text/plain": [
       "array([[ 0,  1,  2,  3,  4,  5],\n",
       "       [10, 11, 12, 13, 14, 15],\n",
       "       [20, 21, 22, 23, 24, 25],\n",
       "       [30, 31, 32, 33, 34, 35],\n",
       "       [40, 41, 42, 43, 44, 45],\n",
       "       [50, 51, 52, 53, 54, 55]])"
      ]
     },
     "execution_count": 100,
     "metadata": {},
     "output_type": "execute_result"
    }
   ],
   "source": [
    "a = array([[ 0, 1, 2, 3, 4, 5],\n",
    "           [10,11,12,13,14,15],\n",
    "           [20,21,22,23,24,25],\n",
    "           [30,31,32,33,34,35],\n",
    "           [40,41,42,43,44,45],\n",
    "           [50,51,52,53,54,55]])\n",
    "a"
   ]
  },
  {
   "cell_type": "markdown",
   "id": "28f56169",
   "metadata": {},
   "source": [
    "想得到第一行的第 4 和第 5 两个元素："
   ]
  },
  {
   "cell_type": "code",
   "execution_count": 101,
   "id": "75dcaaee",
   "metadata": {},
   "outputs": [
    {
     "data": {
      "text/plain": [
       "array([3, 4])"
      ]
     },
     "execution_count": 101,
     "metadata": {},
     "output_type": "execute_result"
    }
   ],
   "source": [
    "a[0, 3:5]"
   ]
  },
  {
   "cell_type": "markdown",
   "id": "bf092ebc",
   "metadata": {},
   "source": [
    "得到最后两行的最后两列："
   ]
  },
  {
   "cell_type": "code",
   "execution_count": 102,
   "id": "7b8c7ec0",
   "metadata": {},
   "outputs": [
    {
     "data": {
      "text/plain": [
       "array([[44, 45],\n",
       "       [54, 55]])"
      ]
     },
     "execution_count": 102,
     "metadata": {},
     "output_type": "execute_result"
    }
   ],
   "source": [
    "a[4:, 4:]"
   ]
  },
  {
   "cell_type": "markdown",
   "id": "d9b872e3",
   "metadata": {},
   "source": [
    "得到第三列："
   ]
  },
  {
   "cell_type": "code",
   "execution_count": 103,
   "id": "3897ea66",
   "metadata": {},
   "outputs": [
    {
     "data": {
      "text/plain": [
       "array([ 2, 12, 22, 32, 42, 52])"
      ]
     },
     "execution_count": 103,
     "metadata": {},
     "output_type": "execute_result"
    }
   ],
   "source": [
    "a[:, 2]"
   ]
  },
  {
   "cell_type": "markdown",
   "id": "8d2defa9",
   "metadata": {},
   "source": [
    "每一维都支持切片的规则，包括负索引，省略：\n",
    "\n",
    "[lower:upper:step]\n",
    "\n",
    "例如，取出3，5行的奇数列："
   ]
  },
  {
   "cell_type": "code",
   "execution_count": 104,
   "id": "c122f541",
   "metadata": {},
   "outputs": [
    {
     "data": {
      "text/plain": [
       "array([[20, 22, 24],\n",
       "       [40, 42, 44]])"
      ]
     },
     "execution_count": 104,
     "metadata": {},
     "output_type": "execute_result"
    }
   ],
   "source": [
    "a[2::2, ::2]"
   ]
  },
  {
   "cell_type": "markdown",
   "id": "13da63ff",
   "metadata": {},
   "source": [
    "<font color=black size=4 face=雅黑>**切片是引用**</font>"
   ]
  },
  {
   "cell_type": "markdown",
   "id": "4e3f9b8e",
   "metadata": {},
   "source": [
    "切片在内存中使用的是引用机制"
   ]
  },
  {
   "cell_type": "code",
   "execution_count": 107,
   "id": "501913d0",
   "metadata": {},
   "outputs": [
    {
     "name": "stdout",
     "output_type": "stream",
     "text": [
      "[2 3]\n"
     ]
    }
   ],
   "source": [
    "a = array([0,1,2,3,4])\n",
    "b = a[2:4]\n",
    "print(b)"
   ]
  },
  {
   "cell_type": "markdown",
   "id": "0c1d3f4c",
   "metadata": {},
   "source": [
    "引用机制意味着，Python并没有为 b 分配新的空间来存储它的值，而是让 b 指向了 a 所分配的内存空间，因此，改变 b 会改变 a 的值："
   ]
  },
  {
   "cell_type": "code",
   "execution_count": 109,
   "id": "cb8e0085",
   "metadata": {},
   "outputs": [
    {
     "data": {
      "text/plain": [
       "array([ 0,  1, 10,  3,  4])"
      ]
     },
     "execution_count": 109,
     "metadata": {},
     "output_type": "execute_result"
    }
   ],
   "source": [
    "b[0] = 10\n",
    "a"
   ]
  },
  {
   "cell_type": "markdown",
   "id": "bf174480",
   "metadata": {},
   "source": [
    "而这种现象在列表中并不会出现："
   ]
  },
  {
   "cell_type": "code",
   "execution_count": 111,
   "id": "f216a3c4",
   "metadata": {},
   "outputs": [
    {
     "name": "stdout",
     "output_type": "stream",
     "text": [
      "[1, 2, 3, 4, 5]\n"
     ]
    }
   ],
   "source": [
    "a = [1,2,3,4,5]\n",
    "b = a[2:3]\n",
    "b[0] = 13234\n",
    "print(a)"
   ]
  },
  {
   "cell_type": "markdown",
   "id": "9fd9bd47",
   "metadata": {},
   "source": [
    "这样做的好处在于，对于很大的数组，不用大量复制多余的值，节约了空间。\n",
    "\n",
    "缺点在于，可能出现改变一个值改变另一个值的情况。\n",
    "\n",
    "一个解决方法是使用copy()方法产生一个复制，这个复制会申请新的内存："
   ]
  },
  {
   "cell_type": "code",
   "execution_count": 113,
   "id": "9dc74bee",
   "metadata": {},
   "outputs": [
    {
     "data": {
      "text/plain": [
       "array([0, 1, 2, 3, 4])"
      ]
     },
     "execution_count": 113,
     "metadata": {},
     "output_type": "execute_result"
    }
   ],
   "source": [
    "a = array([0,1,2,3,4])\n",
    "b = a[2:4].copy()\n",
    "b[0] = 10\n",
    "a"
   ]
  },
  {
   "cell_type": "markdown",
   "id": "f206fe1a",
   "metadata": {},
   "source": [
    "<font color=black size=4 face=雅黑>**花式索引**</font>"
   ]
  },
  {
   "cell_type": "markdown",
   "id": "7800d04a",
   "metadata": {},
   "source": [
    "<font color=black size=4 face=雅黑>**一维花式索引**</font>"
   ]
  },
  {
   "cell_type": "markdown",
   "id": "d5448899",
   "metadata": {},
   "source": [
    "与 range 函数类似，我们可以使用 arange 函数来产生等差数组。"
   ]
  },
  {
   "cell_type": "code",
   "execution_count": 115,
   "id": "16afed48",
   "metadata": {},
   "outputs": [
    {
     "data": {
      "text/plain": [
       "array([ 0, 10, 20, 30, 40, 50, 60, 70])"
      ]
     },
     "execution_count": 115,
     "metadata": {},
     "output_type": "execute_result"
    }
   ],
   "source": [
    "a = arange(0, 80, 10)\n",
    "a"
   ]
  },
  {
   "cell_type": "markdown",
   "id": "1d07c83c",
   "metadata": {},
   "source": [
    "花式索引需要指定索引位置："
   ]
  },
  {
   "cell_type": "code",
   "execution_count": 116,
   "id": "561beb7d",
   "metadata": {},
   "outputs": [
    {
     "name": "stdout",
     "output_type": "stream",
     "text": [
      "[10 20 50]\n"
     ]
    }
   ],
   "source": [
    "indices = [1, 2, -3]\n",
    "y = a[indices]\n",
    "print(y)"
   ]
  },
  {
   "cell_type": "markdown",
   "id": "e6b466f9",
   "metadata": {},
   "source": [
    "还可以使用布尔数组来花式索引："
   ]
  },
  {
   "cell_type": "code",
   "execution_count": 117,
   "id": "3809491b",
   "metadata": {},
   "outputs": [],
   "source": [
    "mask = array([0,1,1,0,0,1,0,0],\n",
    "            dtype=bool)"
   ]
  },
  {
   "cell_type": "code",
   "execution_count": 118,
   "id": "e6808449",
   "metadata": {},
   "outputs": [
    {
     "data": {
      "text/plain": [
       "array([10, 20, 50])"
      ]
     },
     "execution_count": 118,
     "metadata": {},
     "output_type": "execute_result"
    }
   ],
   "source": [
    "a[mask]"
   ]
  },
  {
   "cell_type": "markdown",
   "id": "48d7f666",
   "metadata": {},
   "source": [
    "或者用布尔表达式生成 mask，选出了所有大于0.5的值："
   ]
  },
  {
   "cell_type": "code",
   "execution_count": 119,
   "id": "c6b48bb7",
   "metadata": {},
   "outputs": [
    {
     "data": {
      "text/plain": [
       "array([0.331, 0.075, 0.1  , 0.293, 0.758, 0.54 , 0.271, 0.506, 0.155,\n",
       "       0.474])"
      ]
     },
     "execution_count": 119,
     "metadata": {},
     "output_type": "execute_result"
    }
   ],
   "source": [
    "from numpy.random import rand\n",
    "a = rand(10)\n",
    "a"
   ]
  },
  {
   "cell_type": "code",
   "execution_count": 121,
   "id": "076d9205",
   "metadata": {},
   "outputs": [
    {
     "data": {
      "text/plain": [
       "array([0.758, 0.54 , 0.506])"
      ]
     },
     "execution_count": 121,
     "metadata": {},
     "output_type": "execute_result"
    }
   ],
   "source": [
    "mask = a > 0.5\n",
    "a[mask]"
   ]
  },
  {
   "cell_type": "markdown",
   "id": "5bdf3739",
   "metadata": {},
   "source": [
    "<font color=black size=4 face=雅黑>**二维花式索引**</font>"
   ]
  },
  {
   "cell_type": "code",
   "execution_count": 122,
   "id": "e9014263",
   "metadata": {},
   "outputs": [
    {
     "data": {
      "text/plain": [
       "array([[ 0,  1,  2,  3,  4,  5],\n",
       "       [10, 11, 12, 13, 14, 15],\n",
       "       [20, 21, 22, 23, 24, 25],\n",
       "       [30, 31, 32, 33, 34, 35],\n",
       "       [40, 41, 42, 43, 44, 45],\n",
       "       [50, 51, 52, 53, 54, 55]])"
      ]
     },
     "execution_count": 122,
     "metadata": {},
     "output_type": "execute_result"
    }
   ],
   "source": [
    "a = array([[ 0, 1, 2, 3, 4, 5],\n",
    "           [10,11,12,13,14,15],\n",
    "           [20,21,22,23,24,25],\n",
    "           [30,31,32,33,34,35],\n",
    "           [40,41,42,43,44,45],\n",
    "           [50,51,52,53,54,55]])\n",
    "a"
   ]
  },
  {
   "cell_type": "markdown",
   "id": "12ff1b3e",
   "metadata": {},
   "source": [
    "对于二维花式索引，我们需要给定 row 和 col 的值："
   ]
  },
  {
   "cell_type": "code",
   "execution_count": 123,
   "id": "e4a02de2",
   "metadata": {},
   "outputs": [
    {
     "data": {
      "text/plain": [
       "array([ 1, 12, 23, 34, 45])"
      ]
     },
     "execution_count": 123,
     "metadata": {},
     "output_type": "execute_result"
    }
   ],
   "source": [
    "a[(0,1,2,3,4), (1,2,3,4,5)]"
   ]
  },
  {
   "cell_type": "markdown",
   "id": "391e1e06",
   "metadata": {},
   "source": [
    "返回的是一条次对角线上的5个值。"
   ]
  },
  {
   "cell_type": "code",
   "execution_count": 124,
   "id": "6d011b31",
   "metadata": {},
   "outputs": [
    {
     "data": {
      "text/plain": [
       "array([[30, 32, 35],\n",
       "       [40, 42, 45],\n",
       "       [50, 52, 55]])"
      ]
     },
     "execution_count": 124,
     "metadata": {},
     "output_type": "execute_result"
    }
   ],
   "source": [
    "a[3:, [0,2,5]]"
   ]
  },
  {
   "cell_type": "markdown",
   "id": "01f08aef",
   "metadata": {},
   "source": [
    "返回的是最后三行的第1，3，5列。\n",
    "\n",
    "也可以使用mask进行索引："
   ]
  },
  {
   "cell_type": "code",
   "execution_count": 127,
   "id": "4a552fdc",
   "metadata": {},
   "outputs": [
    {
     "data": {
      "text/plain": [
       "array([ 2, 22, 52])"
      ]
     },
     "execution_count": 127,
     "metadata": {},
     "output_type": "execute_result"
    }
   ],
   "source": [
    "mask = array([1,0,1,0,0,1],\n",
    "            dtype = bool)\n",
    "a[mask, 2]"
   ]
  },
  {
   "cell_type": "markdown",
   "id": "97f75139",
   "metadata": {},
   "source": [
    "与切片不同，花式索引返回的是原对象的一个复制而不是引用。"
   ]
  },
  {
   "cell_type": "markdown",
   "id": "505e41c2",
   "metadata": {},
   "source": [
    "<font color=black size=4 face=雅黑>**“不完全”索引**</font>"
   ]
  },
  {
   "cell_type": "markdown",
   "id": "4d8933e1",
   "metadata": {},
   "source": [
    "只给定行索引的时候，返回整行："
   ]
  },
  {
   "cell_type": "code",
   "execution_count": 129,
   "id": "775be8ba",
   "metadata": {},
   "outputs": [
    {
     "data": {
      "text/plain": [
       "array([[ 0,  1,  2,  3,  4,  5],\n",
       "       [10, 11, 12, 13, 14, 15],\n",
       "       [20, 21, 22, 23, 24, 25]])"
      ]
     },
     "execution_count": 129,
     "metadata": {},
     "output_type": "execute_result"
    }
   ],
   "source": [
    "y = a[:3]\n",
    "y"
   ]
  },
  {
   "cell_type": "markdown",
   "id": "102c0774",
   "metadata": {},
   "source": [
    "这时候也可以使用花式索引取出第2，3，5行："
   ]
  },
  {
   "cell_type": "code",
   "execution_count": 133,
   "id": "0c1e5688",
   "metadata": {},
   "outputs": [
    {
     "data": {
      "text/plain": [
       "array([[10, 11, 12, 13, 14, 15],\n",
       "       [20, 21, 22, 23, 24, 25],\n",
       "       [40, 41, 42, 43, 44, 45]])"
      ]
     },
     "execution_count": 133,
     "metadata": {},
     "output_type": "execute_result"
    }
   ],
   "source": [
    "condition = array([0,1,1,0,1,0],\n",
    "                 dtype=bool)\n",
    "a[condition]"
   ]
  },
  {
   "cell_type": "markdown",
   "id": "234741f2",
   "metadata": {},
   "source": [
    "<font color=black size=4 face=雅黑>**三维花式索引**</font>"
   ]
  },
  {
   "cell_type": "code",
   "execution_count": 134,
   "id": "8baf5da5",
   "metadata": {},
   "outputs": [
    {
     "data": {
      "text/plain": [
       "array([[[ 0,  1,  2,  3],\n",
       "        [ 4,  5,  6,  7],\n",
       "        [ 8,  9, 10, 11],\n",
       "        [12, 13, 14, 15]],\n",
       "\n",
       "       [[16, 17, 18, 19],\n",
       "        [20, 21, 22, 23],\n",
       "        [24, 25, 26, 27],\n",
       "        [28, 29, 30, 31]],\n",
       "\n",
       "       [[32, 33, 34, 35],\n",
       "        [36, 37, 38, 39],\n",
       "        [40, 41, 42, 43],\n",
       "        [44, 45, 46, 47]],\n",
       "\n",
       "       [[48, 49, 50, 51],\n",
       "        [52, 53, 54, 55],\n",
       "        [56, 57, 58, 59],\n",
       "        [60, 61, 62, 63]]])"
      ]
     },
     "execution_count": 134,
     "metadata": {},
     "output_type": "execute_result"
    }
   ],
   "source": [
    "a = arange(64)\n",
    "a.shape = 4,4,4\n",
    "a"
   ]
  },
  {
   "cell_type": "code",
   "execution_count": 135,
   "id": "c92f314e",
   "metadata": {},
   "outputs": [
    {
     "data": {
      "text/plain": [
       "array([[[ 2,  3],\n",
       "        [ 6,  7],\n",
       "        [10, 11],\n",
       "        [14, 15]],\n",
       "\n",
       "       [[18, 19],\n",
       "        [22, 23],\n",
       "        [26, 27],\n",
       "        [30, 31]],\n",
       "\n",
       "       [[34, 35],\n",
       "        [38, 39],\n",
       "        [42, 43],\n",
       "        [46, 47]],\n",
       "\n",
       "       [[50, 51],\n",
       "        [54, 55],\n",
       "        [58, 59],\n",
       "        [62, 63]]])"
      ]
     },
     "execution_count": 135,
     "metadata": {},
     "output_type": "execute_result"
    }
   ],
   "source": [
    "y = a[:,:,[2,-1]]\n",
    "y"
   ]
  },
  {
   "cell_type": "markdown",
   "id": "2ca755e6",
   "metadata": {},
   "source": [
    "<font color=black size=4 face=雅黑>**where语句**</font>"
   ]
  },
  {
   "cell_type": "markdown",
   "id": "7cdfe746",
   "metadata": {},
   "source": [
    "where(array)\n",
    "\n",
    "where 函数会返回所有非零元素的索引。"
   ]
  },
  {
   "cell_type": "markdown",
   "id": "6ffd0880",
   "metadata": {},
   "source": [
    "<font color=black size=4 face=雅黑>**一维数组**</font>"
   ]
  },
  {
   "cell_type": "code",
   "execution_count": 138,
   "id": "318aa488",
   "metadata": {},
   "outputs": [],
   "source": [
    "a = array([0,12,5,20])"
   ]
  },
  {
   "cell_type": "markdown",
   "id": "25141dcf",
   "metadata": {},
   "source": [
    "判断数组中的元素是不是大于10："
   ]
  },
  {
   "cell_type": "code",
   "execution_count": 139,
   "id": "12e8457b",
   "metadata": {},
   "outputs": [
    {
     "data": {
      "text/plain": [
       "array([False,  True, False,  True])"
      ]
     },
     "execution_count": 139,
     "metadata": {},
     "output_type": "execute_result"
    }
   ],
   "source": [
    "a > 10"
   ]
  },
  {
   "cell_type": "markdown",
   "id": "e5c23573",
   "metadata": {},
   "source": [
    "数组中所有大于10的元素的索引位置："
   ]
  },
  {
   "cell_type": "code",
   "execution_count": 140,
   "id": "24ab7368",
   "metadata": {},
   "outputs": [
    {
     "data": {
      "text/plain": [
       "(array([1, 3]),)"
      ]
     },
     "execution_count": 140,
     "metadata": {},
     "output_type": "execute_result"
    }
   ],
   "source": [
    "where(a>10)"
   ]
  },
  {
   "cell_type": "markdown",
   "id": "8d30e696",
   "metadata": {},
   "source": [
    "注意到 where 的返回值是一个元组。\n",
    "\n",
    "使用元组是由于 where 可以对多维数组使用，此时返回值就是多维的。\n",
    "\n",
    "在使用的时候，我们可以这样："
   ]
  },
  {
   "cell_type": "code",
   "execution_count": 141,
   "id": "6e3faff6",
   "metadata": {},
   "outputs": [
    {
     "data": {
      "text/plain": [
       "array([1, 3])"
      ]
     },
     "execution_count": 141,
     "metadata": {},
     "output_type": "execute_result"
    }
   ],
   "source": [
    "indices = where(a>10)\n",
    "indices = indices[0]\n",
    "indices"
   ]
  },
  {
   "cell_type": "markdown",
   "id": "f2729f67",
   "metadata": {},
   "source": [
    "或者："
   ]
  },
  {
   "cell_type": "code",
   "execution_count": 142,
   "id": "552f2858",
   "metadata": {},
   "outputs": [
    {
     "data": {
      "text/plain": [
       "array([1, 3])"
      ]
     },
     "execution_count": 142,
     "metadata": {},
     "output_type": "execute_result"
    }
   ],
   "source": [
    "indices = where(a>10)[0]\n",
    "indices"
   ]
  },
  {
   "cell_type": "markdown",
   "id": "55554b5a",
   "metadata": {},
   "source": [
    "可以直接用 where 的返回值进行索引："
   ]
  },
  {
   "cell_type": "code",
   "execution_count": 143,
   "id": "ae318493",
   "metadata": {},
   "outputs": [
    {
     "data": {
      "text/plain": [
       "array([12, 20])"
      ]
     },
     "execution_count": 143,
     "metadata": {},
     "output_type": "execute_result"
    }
   ],
   "source": [
    "loc = where(a>10)\n",
    "a[loc]"
   ]
  },
  {
   "cell_type": "markdown",
   "id": "715c50f3",
   "metadata": {},
   "source": [
    "<font color=black size=4 face=雅黑>**多维数组**</font>"
   ]
  },
  {
   "cell_type": "code",
   "execution_count": 144,
   "id": "b98345ff",
   "metadata": {},
   "outputs": [],
   "source": [
    "a = array([[0,12,5,20],\n",
    "           [1,2,11,15]])\n",
    "loc = where(a > 10)"
   ]
  },
  {
   "cell_type": "markdown",
   "id": "1fc29d1d",
   "metadata": {},
   "source": [
    "返回结果是一个二维的元组，每一维代表这一维的索引值："
   ]
  },
  {
   "cell_type": "code",
   "execution_count": 145,
   "id": "900fa1d5",
   "metadata": {},
   "outputs": [
    {
     "data": {
      "text/plain": [
       "(array([0, 0, 1, 1]), array([1, 3, 2, 3]))"
      ]
     },
     "execution_count": 145,
     "metadata": {},
     "output_type": "execute_result"
    }
   ],
   "source": [
    "loc"
   ]
  },
  {
   "cell_type": "markdown",
   "id": "3cec07c3",
   "metadata": {},
   "source": [
    "也可以直接用来索引a："
   ]
  },
  {
   "cell_type": "code",
   "execution_count": 146,
   "id": "c28f4402",
   "metadata": {},
   "outputs": [
    {
     "data": {
      "text/plain": [
       "array([12, 20, 11, 15])"
      ]
     },
     "execution_count": 146,
     "metadata": {},
     "output_type": "execute_result"
    }
   ],
   "source": [
    "a[loc]"
   ]
  },
  {
   "cell_type": "markdown",
   "id": "ae7b9cbb",
   "metadata": {},
   "source": [
    "或者可以这样："
   ]
  },
  {
   "cell_type": "code",
   "execution_count": 147,
   "id": "d1ee0598",
   "metadata": {},
   "outputs": [
    {
     "data": {
      "text/plain": [
       "array([0, 0, 1, 1])"
      ]
     },
     "execution_count": 147,
     "metadata": {},
     "output_type": "execute_result"
    }
   ],
   "source": [
    "rows, cols = where(a>10)\n",
    "rows"
   ]
  },
  {
   "cell_type": "code",
   "execution_count": 148,
   "id": "5c75e606",
   "metadata": {},
   "outputs": [
    {
     "data": {
      "text/plain": [
       "array([1, 3, 2, 3])"
      ]
     },
     "execution_count": 148,
     "metadata": {},
     "output_type": "execute_result"
    }
   ],
   "source": [
    "cols"
   ]
  },
  {
   "cell_type": "code",
   "execution_count": 149,
   "id": "f963585d",
   "metadata": {},
   "outputs": [
    {
     "data": {
      "text/plain": [
       "array([12, 20, 11, 15])"
      ]
     },
     "execution_count": 149,
     "metadata": {},
     "output_type": "execute_result"
    }
   ],
   "source": [
    "a[rows,cols]"
   ]
  },
  {
   "cell_type": "markdown",
   "id": "d0bd1db9",
   "metadata": {},
   "source": [
    "另一个例子："
   ]
  },
  {
   "cell_type": "code",
   "execution_count": 150,
   "id": "12d6cca8",
   "metadata": {},
   "outputs": [
    {
     "data": {
      "text/plain": [
       "array([[ 0,  1,  2,  3,  4],\n",
       "       [ 5,  6,  7,  8,  9],\n",
       "       [10, 11, 12, 13, 14],\n",
       "       [15, 16, 17, 18, 19],\n",
       "       [20, 21, 22, 23, 24]])"
      ]
     },
     "execution_count": 150,
     "metadata": {},
     "output_type": "execute_result"
    }
   ],
   "source": [
    "a = arange(25)\n",
    "a.shape = 5,5\n",
    "a"
   ]
  },
  {
   "cell_type": "code",
   "execution_count": 151,
   "id": "aa2ccf1b",
   "metadata": {},
   "outputs": [
    {
     "data": {
      "text/plain": [
       "array([[False, False, False, False, False],\n",
       "       [False, False, False, False, False],\n",
       "       [False, False, False,  True,  True],\n",
       "       [ True,  True,  True,  True,  True],\n",
       "       [ True,  True,  True,  True,  True]])"
      ]
     },
     "execution_count": 151,
     "metadata": {},
     "output_type": "execute_result"
    }
   ],
   "source": [
    "a > 12"
   ]
  },
  {
   "cell_type": "code",
   "execution_count": 152,
   "id": "f7d30424",
   "metadata": {},
   "outputs": [
    {
     "data": {
      "text/plain": [
       "(array([2, 2, 3, 3, 3, 3, 3, 4, 4, 4, 4, 4]),\n",
       " array([3, 4, 0, 1, 2, 3, 4, 0, 1, 2, 3, 4]))"
      ]
     },
     "execution_count": 152,
     "metadata": {},
     "output_type": "execute_result"
    }
   ],
   "source": [
    "where(a>12)"
   ]
  },
  {
   "cell_type": "code",
   "execution_count": null,
   "id": "1a3a5c15",
   "metadata": {},
   "outputs": [],
   "source": []
  }
 ],
 "metadata": {
  "kernelspec": {
   "display_name": "Python 3 (ipykernel)",
   "language": "python",
   "name": "python3"
  },
  "language_info": {
   "codemirror_mode": {
    "name": "ipython",
    "version": 3
   },
   "file_extension": ".py",
   "mimetype": "text/x-python",
   "name": "python",
   "nbconvert_exporter": "python",
   "pygments_lexer": "ipython3",
   "version": "3.9.12"
  }
 },
 "nbformat": 4,
 "nbformat_minor": 5
}
